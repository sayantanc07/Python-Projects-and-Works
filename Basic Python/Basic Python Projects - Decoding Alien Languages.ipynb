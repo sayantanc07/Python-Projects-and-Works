{
 "cells": [
  {
   "cell_type": "code",
   "execution_count": null,
   "id": "d7f30c6d",
   "metadata": {},
   "outputs": [],
   "source": []
  },
  {
   "cell_type": "markdown",
   "id": "278eaf9f",
   "metadata": {},
   "source": [
    "The SETI Institute is a not-for-profit research organization incorporated in 1984 whose mission is to explore, understand, and explain the origin and nature of life in the universe, and to apply the knowledge gained to inspire and guide present and future generations. It aims for discovery and for sharing knowledge as scientific ambassadors to the public, the press, and the government. SETI stands for the \"Search for Extraterrestrial Intelligence\". <br>\n",
    "\n",
    "SETI received some signals from a far away galaxy on June 14, 2012. These signals could have been from a possible alien civilization (similar to what you would have seen in the movie Arrival).\n",
    "The signals indicated the existence of a secret language for sending messages across. Following are the observations made by the SETI team who discovered these signals :\n",
    "Aliens share a tuple, each element of tuple will be a string of alphabets\n",
    "Scientists still don't know what is the content of the strings inside the tuples but depending upon the length of the string, the string translates into an alphabet (0 ≡ ,1 ≡ A, 2 ≡ B, 3 ≡ C, .., 26 ≡ Z)\n",
    "Space between the words of the message is represented by an empty string<br>\n",
    "\n",
    "A sample message received by SETI\n",
    "\n",
    "ADAM EVE is denoted by the following tuple:\n",
    "\n",
    "\n",
    " t = (\"s\", \"dymw\", \"z\", \"ndkjaakjkjnda\",\"\",\"tybhg\",\"nmbcjbabdbsabbsbhdbshr\",\"htroy\" )\n",
    "Explanation:\n",
    "\n",
    "A list of length of each element in the tuple is : [1,4,1,13,0,5,22,5]\n",
    "Upon replacing numbers with corresponding alphabets and spaces, we get :\n",
    "['A','D','A','M','','E','V','E'] "
   ]
  },
  {
   "cell_type": "markdown",
   "id": "12fd5796",
   "metadata": {},
   "source": [
    "**Problem 1**<br>\n",
    "You are given such a tuple of strings, what will be your approach to decode it?<br>\n",
    "Describe your approach (no code required, just write the steps) in the following steps (it could be less than 5) :<br>\n",
    "Step 1 : create a dictionary of numbers and alphabet in which keys=numbers and values=alphabet, with a name alphabet_dict <br>\n",
    "Step 2 : print the length of the given message of a each string by using len function & indexing and create a list, with a name each_element_len <br>\n",
    "Step 3 : now call the values by using key from char_num_dict, keys = element present in each_element_len by using indexing. <br>"
   ]
  },
  {
   "cell_type": "markdown",
   "id": "0b2c5f3b",
   "metadata": {},
   "source": [
    "**Problem 2**<br>\n",
    "Create a dictionary where the key corresponds to the position of the alphabet(consider space as the first alphabet) and the value corresponding to the key will be the alphabet."
   ]
  },
  {
   "cell_type": "code",
   "execution_count": 1,
   "id": "3b9a60bf",
   "metadata": {},
   "outputs": [
    {
     "name": "stdout",
     "output_type": "stream",
     "text": [
      "{0: ' ', 1: 'A', 2: 'B', 3: 'C', 4: 'D', 5: 'E', 6: 'F', 7: 'G', 8: 'H', 9: 'I', 10: 'J', 11: 'K', 12: 'L', 13: 'M', 14: 'N', 15: 'O', 16: 'P', 17: 'Q', 18: 'R', 19: 'S', 20: 'T', 21: 'U', 22: 'V', 23: 'W', 24: 'X', 25: 'Y', 26: 'Z'}\n"
     ]
    }
   ],
   "source": [
    "# Create your dictionary below with keys as position of the alphabet and the value of the key will be the alphabet itself\n",
    "alphabet_dict = {0: ' ', 1: 'A', 2: 'B', 3: 'C', 4: 'D', 5: 'E', 6: 'F', 7: 'G', 8: 'H', 9: 'I', 10: 'J', 11: 'K', 12: 'L', \n",
    "                 13: 'M', 14: 'N', 15: 'O', 16: 'P', 17: 'Q', 18: 'R', 19: 'S', 20: 'T', 21: 'U', 22: 'V', 23: 'W', 24: 'X', 25: 'Y', 26: 'Z'}\n",
    "\n",
    "\n",
    "# Print your dictionary to double check;  any small mistake in numbering can screw up the results\n",
    "print(alphabet_dict)"
   ]
  },
  {
   "cell_type": "markdown",
   "id": "c31cac0f",
   "metadata": {},
   "source": [
    "**Problem 3**<br>\n",
    "Suppose you are given a particular value from the dictionary. Write the code to extract the corresponding key from the dictionary<br>\n",
    "For example, if you are given the value 'h', the corresponding key should be 8"
   ]
  },
  {
   "cell_type": "code",
   "execution_count": 2,
   "id": "12393fda",
   "metadata": {},
   "outputs": [
    {
     "name": "stdout",
     "output_type": "stream",
     "text": [
      "[0, 1, 2, 3, 4, 5, 6, 7, 8, 9, 10, 11, 12, 13, 14, 15, 16, 17, 18, 19, 20, 21, 22, 23, 24, 25, 26]\n",
      "[' ', 'A', 'B', 'C', 'D', 'E', 'F', 'G', 'H', 'I', 'J', 'K', 'L', 'M', 'N', 'O', 'P', 'Q', 'R', 'S', 'T', 'U', 'V', 'W', 'X', 'Y', 'Z']\n",
      "8\n"
     ]
    }
   ],
   "source": [
    "# Get your list of keys and print it out\n",
    "\n",
    "alphabet_keys =  list(alphabet_dict.keys())\n",
    "print(alphabet_keys)\n",
    "\n",
    "# Get your list of values and print it out\n",
    "\n",
    "alphabet_values =  list(alphabet_dict.values())\n",
    "print(alphabet_values)\n",
    "\n",
    "# Your code to extract the key for a given value 'h'\n",
    "\n",
    "index = alphabet_values.index('H')\n",
    "print(index)"
   ]
  },
  {
   "cell_type": "markdown",
   "id": "c30deb12",
   "metadata": {},
   "source": [
    "**Problem 4**<br>\n",
    "Scientists receive the following message code from the alien civilization<br>\n",
    "encrypyted_message = (\"ajsuydtbe\", \"\", \"wunjbfusnjrgut\", \"uhbhr\", \"oirun\", \"lpef\", \"\", \"vhejsibr\", \"ydtse\", \"qlvuusrntuos\", \"ijwlbutybhlsoaxh\")\n",
    "You have been asked to decode the above message"
   ]
  },
  {
   "cell_type": "code",
   "execution_count": 4,
   "id": "9e71c450",
   "metadata": {},
   "outputs": [],
   "source": [
    "# Store the message in a variable \n",
    "encrypted_message = (\"ajsuydtbe\", \"\", \"wunjbfusnjrgut\", \"uhbhr\", \"oirun\", \"lpef\", \"\", \"vhejsibr\", \"ydtse\", \"qlvuusrntuos\", \"ijwlbutybhlsoaxh\")"
   ]
  },
  {
   "cell_type": "code",
   "execution_count": 5,
   "id": "e05793b3",
   "metadata": {},
   "outputs": [
    {
     "name": "stdout",
     "output_type": "stream",
     "text": [
      "[9, 0, 14, 5, 5, 4, 0, 8, 5, 12, 16]\n"
     ]
    }
   ],
   "source": [
    "# Follow the steps from your solution to problem 1\n",
    "\n",
    "# Create an empty list \n",
    "string_length_list  = []\n",
    "\n",
    "# Append the length of strings of your tuple one by one\n",
    "\n",
    "string_length_list.append(len(encrypted_message[0]))\n",
    "string_length_list.append(len(encrypted_message[1]))\n",
    "string_length_list.append(len(encrypted_message[2]))\n",
    "string_length_list.append(len(encrypted_message[3]))\n",
    "string_length_list.append(len(encrypted_message[4]))\n",
    "string_length_list.append(len(encrypted_message[5]))\n",
    "string_length_list.append(len(encrypted_message[6]))\n",
    "string_length_list.append(len(encrypted_message[7]))\n",
    "string_length_list.append(len(encrypted_message[8]))\n",
    "string_length_list.append(len(encrypted_message[9]))\n",
    "string_length_list.append(len(encrypted_message[10]))\n",
    "\n",
    "# Print the list of string lengths \n",
    "\n",
    "\n",
    "# for i in encrypted_message:\n",
    "#   string_length_list.append(len(i[0:11]))\n",
    "\n",
    "print(string_length_list)"
   ]
  },
  {
   "cell_type": "code",
   "execution_count": 6,
   "id": "be7f5e2a",
   "metadata": {},
   "outputs": [
    {
     "name": "stdout",
     "output_type": "stream",
     "text": [
      "I NEED HELP\n"
     ]
    }
   ],
   "source": [
    "# Create a string to store the decrypyted message\n",
    "\n",
    "# Concatenate the characters one by one to get your final decoded message\n",
    "\n",
    "decoded_message = alphabet_dict[string_length_list[0]]+alphabet_dict[string_length_list[1]]+alphabet_dict[string_length_list[2]]+alphabet_dict[string_length_list[3]]+alphabet_dict[string_length_list[4]]+alphabet_dict[string_length_list[5]]+alphabet_dict[string_length_list[6]]+alphabet_dict[string_length_list[7]]+alphabet_dict[string_length_list[8]]+alphabet_dict[string_length_list[9]]+alphabet_dict[string_length_list[10]]\n",
    "\n",
    "# Print the message you have decrypted\n",
    "\n",
    "print(decoded_message)"
   ]
  },
  {
   "cell_type": "code",
   "execution_count": 7,
   "id": "8264cb14",
   "metadata": {},
   "outputs": [],
   "source": [
    "\n",
    "#in next week, we can show comparison, how using loop all this code can be written in 2 lines"
   ]
  },
  {
   "cell_type": "markdown",
   "id": "555593a3",
   "metadata": {},
   "source": [
    "**Problem 5**<br>\n",
    "Encrypt a message for the alien civilization which the scientists can send through the EM signals. Scientists want to ask the aliens \"why\" "
   ]
  },
  {
   "cell_type": "code",
   "execution_count": 8,
   "id": "3cd28be3",
   "metadata": {},
   "outputs": [
    {
     "name": "stdout",
     "output_type": "stream",
     "text": [
      "[23, 8, 25]\n"
     ]
    }
   ],
   "source": [
    "# You already have the list of keys and values of the alphabet dictionary\n",
    "\n",
    "# Find the keys for the above message\n",
    "\n",
    "w = alphabet_keys[alphabet_values.index('W')]\n",
    "h = alphabet_keys[alphabet_values.index('H')]\n",
    "y = alphabet_keys[alphabet_values.index('Y')]\n",
    "\n",
    "# Create a list of the message keys you obtained from above\n",
    "\n",
    "len_list = []\n",
    "\n",
    "len_list.append(w)\n",
    "len_list.append(h)\n",
    "len_list.append(y)\n",
    "\n",
    "# Print the encoded list of the message keys\n",
    "\n",
    "print(len_list)"
   ]
  },
  {
   "cell_type": "markdown",
   "id": "d4b2dece",
   "metadata": {},
   "source": [
    "**Problem 6**<br>\n",
    "Get the encrypted message using the final list obtained in the above problem where you will use only alphabet \"a\""
   ]
  },
  {
   "cell_type": "code",
   "execution_count": 9,
   "id": "654c0620",
   "metadata": {},
   "outputs": [
    {
     "name": "stdout",
     "output_type": "stream",
     "text": [
      "('aaaaaaaaaaaaaaaaaaaaaaa', 'aaaaaaaa', 'aaaaaaaaaaaaaaaaaaaaaaaaa')\n"
     ]
    }
   ],
   "source": [
    "# Get the individual strings for \"w\",\"h\",\"y\"\n",
    "\n",
    "strings_for_W = 'a'*len_list[0]\n",
    "strings_for_H = 'a'*len_list[1]\n",
    "strings_for_Y = 'a'*len_list[2]\n",
    "\n",
    "# Create a tuple using the strings you obtained\n",
    "encrypted_message = (strings_for_W, strings_for_H, strings_for_Y)\n",
    "\n",
    "# Print the encrypted message\n",
    "\n",
    "print(encrypted_message)"
   ]
  },
  {
   "cell_type": "markdown",
   "id": "ac478cd0",
   "metadata": {},
   "source": [
    "**Problem 7**<br>\n",
    "\n",
    "**Aliens receive the reply from the scientists. They decode the message and send an encrypted message again. Due to some aberrations because of an existing very massive star, one of the words of their message gets transformed into something gibberish/unreadable. They sent the following message:** <br>\n",
    "\n",
    "I saw a <some gibberish> please help me soon<br>\n",
    "    \n",
    "Scientists were baffled by the presence of such an indecipherable word in the message sent by Aliens. Suddenly they receive another signal from them which contains the gibberish word but this time the letters have been jumbled up. Scientists need to sort the letters of this word in alphabetical order within it to get the actual transmitted word\n",
    "The encoded list of the unknown word is:<br>\n",
    "    \n",
    "jumbled_word = [\"hugdtck\", \"tsogbklesrawqcbjplu\", \"qkisrubskoaitbt\", \"nslaoetr\", \"oksinjioaendnjsdqwbh\"]"
   ]
  },
  {
   "cell_type": "code",
   "execution_count": 11,
   "id": "f1ce9ecd",
   "metadata": {},
   "outputs": [],
   "source": [
    "# STore the list of jumbled word in a variable \n",
    "jumbled_word = [\"hugdtck\", \"tsogbklesrawqcbjplu\", \"qkisrubskoaitbt\", \"nslaoetr\", \"oksinjioaendnjsdqwbh\"]"
   ]
  },
  {
   "cell_type": "code",
   "execution_count": 12,
   "id": "5dbe2094",
   "metadata": {},
   "outputs": [
    {
     "name": "stdout",
     "output_type": "stream",
     "text": [
      "[7, 19, 15, 8, 20]\n",
      "GSOHT\n",
      "['G', 'H', 'O', 'S', 'T']\n",
      "GHOST\n",
      "I saw a GHOST please help me soon\n"
     ]
    }
   ],
   "source": [
    "# Create an empty list \n",
    "string_length_list = []\n",
    "\n",
    "# Append the length of each string in the list\n",
    "\n",
    "string_length_list.append(len(jumbled_word[0]))\n",
    "string_length_list.append(len(jumbled_word[1]))\n",
    "string_length_list.append(len(jumbled_word[2]))\n",
    "string_length_list.append(len(jumbled_word[3]))\n",
    "string_length_list.append(len(jumbled_word[4]))\n",
    "\n",
    "# Print the above list\n",
    "print(string_length_list)\n",
    "\n",
    "# Create another list to store the corresponding characters\n",
    "\n",
    "chars_in_jumbled_state = alphabet_dict[string_length_list[0]]+alphabet_dict[string_length_list[1]]+alphabet_dict[string_length_list[2]]+alphabet_dict[string_length_list[3]]+alphabet_dict[string_length_list[4]]\n",
    "\n",
    "# Print this list of jumbled charecters\n",
    "\n",
    "print(chars_in_jumbled_state)\n",
    "\n",
    "# Get the  sorted list\n",
    "sorted_char_list = sorted(chars_in_jumbled_state)\n",
    "\n",
    "# Print the sorted list\n",
    "\n",
    "print(sorted_char_list)\n",
    "\n",
    "# Get all the characters in one word\n",
    "correct_word = sorted_char_list[0]+sorted_char_list[1]+sorted_char_list[2]+sorted_char_list[3]+sorted_char_list[4]\n",
    "\n",
    "# Print the correct word\n",
    "\n",
    "print(correct_word)\n",
    "\n",
    "# Print the complete message\n",
    "print(f\"I saw a {correct_word} please help me soon\")"
   ]
  },
  {
   "cell_type": "code",
   "execution_count": null,
   "id": "3584edbc",
   "metadata": {},
   "outputs": [],
   "source": []
  }
 ],
 "metadata": {
  "kernelspec": {
   "display_name": "Python 3 (ipykernel)",
   "language": "python",
   "name": "python3"
  },
  "language_info": {
   "codemirror_mode": {
    "name": "ipython",
    "version": 3
   },
   "file_extension": ".py",
   "mimetype": "text/x-python",
   "name": "python",
   "nbconvert_exporter": "python",
   "pygments_lexer": "ipython3",
   "version": "3.9.7"
  }
 },
 "nbformat": 4,
 "nbformat_minor": 5
}
