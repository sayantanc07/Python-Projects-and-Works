{
 "cells": [
  {
   "cell_type": "code",
   "execution_count": 4,
   "id": "a4feaaf8",
   "metadata": {},
   "outputs": [],
   "source": [
    "import random\n",
    "import string"
   ]
  },
  {
   "cell_type": "code",
   "execution_count": 12,
   "id": "4de31e43",
   "metadata": {},
   "outputs": [
    {
     "name": "stdout",
     "output_type": "stream",
     "text": [
      "enter your required length for your password:\n",
      "4\n",
      "Generated password is:-   r~j&\n"
     ]
    }
   ],
   "source": [
    "num=int(input(\"enter your required length for your password:\\n\"))\n",
    "\n",
    "def generate_password(length):\n",
    "  # Generate a random password of the given length\n",
    "  password = \"\"\n",
    "  for i in range(length):\n",
    "    # Generate a random character and add it to the password\n",
    "    password += random.choice(string.ascii_letters + string.digits + string.punctuation)\n",
    "  return password\n",
    "\n",
    "# Test the function\n",
    "password = generate_password(num)\n",
    "print(\"Generated password is:-  \", password)"
   ]
  },
  {
   "cell_type": "code",
   "execution_count": null,
   "id": "d816e057",
   "metadata": {},
   "outputs": [],
   "source": []
  },
  {
   "cell_type": "code",
   "execution_count": null,
   "id": "a05131d2",
   "metadata": {},
   "outputs": [],
   "source": []
  }
 ],
 "metadata": {
  "kernelspec": {
   "display_name": "Python 3 (ipykernel)",
   "language": "python",
   "name": "python3"
  },
  "language_info": {
   "codemirror_mode": {
    "name": "ipython",
    "version": 3
   },
   "file_extension": ".py",
   "mimetype": "text/x-python",
   "name": "python",
   "nbconvert_exporter": "python",
   "pygments_lexer": "ipython3",
   "version": "3.9.7"
  }
 },
 "nbformat": 4,
 "nbformat_minor": 5
}
