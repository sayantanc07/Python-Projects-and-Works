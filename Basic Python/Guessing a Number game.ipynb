{
 "cells": [
  {
   "cell_type": "code",
   "execution_count": 22,
   "id": "dea32322",
   "metadata": {},
   "outputs": [],
   "source": [
    "import random\n"
   ]
  },
  {
   "cell_type": "code",
   "execution_count": 28,
   "id": "5ca0ff7e",
   "metadata": {},
   "outputs": [
    {
     "name": "stdout",
     "output_type": "stream",
     "text": [
      "Guess a number between 1 and 20: 21\n",
      "Please enter a number within the given range (1 to 20).\n",
      "Guess a number between 1 and 20: 20\n",
      "Your guess is too high. Try again.\n",
      "Guess a number between 1 and 20: 12\n",
      "Your guess is too low. Try again.\n",
      "Guess a number between 1 and 20: 15\n",
      "Your guess is too high. Try again.\n",
      "Guess a number between 1 and 20: 13\n",
      "Congratulations! You have guessed the correct number in 4 guesses!\n"
     ]
    }
   ],
   "source": [
    "# Generating a random number between 1 and 20\n",
    "answer = random.randint(1, 20)\n",
    "\n",
    "# Ask the player to guess the number\n",
    "\n",
    "\n",
    "num_guesses = 0\n",
    "\n",
    "while True:\n",
    "    try:\n",
    "        guess = int(input(\"Guess a number between 1 and 20: \"))\n",
    "        # Check if the guess is within the specified range\n",
    "        if 1 <= guess <= 20:\n",
    "            num_guesses += 1\n",
    "            if guess > answer:\n",
    "                print(\"Your guess is too high. Try again.\")\n",
    "            elif guess < answer:\n",
    "                print(\"Your guess is too low. Try again.\")\n",
    "            else:\n",
    "                print(f\"Congratulations! You have guessed the correct number in {num_guesses} guesses!\")\n",
    "                break\n",
    "        else:\n",
    "            print(\"Please enter a number within the given range (1 to 20).\")\n",
    "    except ValueError:\n",
    "        print(\"Invalid input. Please enter a valid number.\")\n"
   ]
  },
  {
   "cell_type": "code",
   "execution_count": null,
   "id": "de949da3",
   "metadata": {},
   "outputs": [],
   "source": []
  }
 ],
 "metadata": {
  "kernelspec": {
   "display_name": "Python 3 (ipykernel)",
   "language": "python",
   "name": "python3"
  },
  "language_info": {
   "codemirror_mode": {
    "name": "ipython",
    "version": 3
   },
   "file_extension": ".py",
   "mimetype": "text/x-python",
   "name": "python",
   "nbconvert_exporter": "python",
   "pygments_lexer": "ipython3",
   "version": "3.9.7"
  }
 },
 "nbformat": 4,
 "nbformat_minor": 5
}
